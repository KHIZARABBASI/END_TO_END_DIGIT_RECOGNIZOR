{
 "cells": [
  {
   "cell_type": "markdown",
   "metadata": {},
   "source": [
    "# Data Validation and Transformation\n"
   ]
  },
  {
   "cell_type": "code",
   "execution_count": 19,
   "metadata": {},
   "outputs": [],
   "source": [
    "import os"
   ]
  },
  {
   "cell_type": "code",
   "execution_count": 20,
   "metadata": {},
   "outputs": [],
   "source": [
    "os.chdir(\"E:\\[Portfolio Project]\\Digit Recognizor\")"
   ]
  },
  {
   "cell_type": "code",
   "execution_count": 21,
   "metadata": {},
   "outputs": [
    {
     "data": {
      "text/plain": [
       "'E:\\\\[Portfolio Project]\\\\Digit Recognizor'"
      ]
     },
     "execution_count": 21,
     "metadata": {},
     "output_type": "execute_result"
    }
   ],
   "source": [
    "%pwd"
   ]
  },
  {
   "cell_type": "code",
   "execution_count": 22,
   "metadata": {},
   "outputs": [],
   "source": [
    "import numpy as np\n",
    "import pandas as pd\n",
    "from sklearn.model_selection import train_test_split"
   ]
  },
  {
   "cell_type": "code",
   "execution_count": 23,
   "metadata": {},
   "outputs": [],
   "source": [
    "from dataclasses import dataclass\n",
    "from pathlib import Path\n",
    "\n",
    "\n",
    "@dataclass(frozen=True)\n",
    "class DataTransformationConfig:\n",
    "    root_dir: Path\n",
    "    input_data_file: Path\n",
    "    output_data_file: Path\n",
    "    training_dir: Path\n",
    "    valid_dir: Path\n"
   ]
  },
  {
   "cell_type": "code",
   "execution_count": 24,
   "metadata": {},
   "outputs": [],
   "source": [
    "from cnnDigitReco.constants import *\n",
    "from cnnDigitReco.utils.common import read_yaml, create_directories"
   ]
  },
  {
   "cell_type": "code",
   "execution_count": 25,
   "metadata": {},
   "outputs": [],
   "source": [
    "class ConfigurationManager:\n",
    "    def __init__(\n",
    "        self, \n",
    "        config_filepath = CONFIG_FILE_PATH,\n",
    "        params_filepath = PARAMS_FILE_PATH):\n",
    "        self.config = read_yaml(config_filepath)\n",
    "        self.params = read_yaml(params_filepath)\n",
    "        create_directories([self.config.artifacts_root])\n",
    "\n",
    "\n",
    "        \n",
    "\n",
    "    def get_data_transformation_config(self) -> DataTransformationConfig:\n",
    "        config = self.config.data_transformation\n",
    "        \n",
    "        create_directories([config.root_dir])\n",
    "\n",
    "\n",
    "\n",
    "        return DataTransformationConfig(\n",
    "            root_dir = Path(config.root_dir),\n",
    "            input_data_file = Path(config.input_data_file),\n",
    "            output_data_file = Path(config.output_data_file),\n",
    "            training_dir = Path(config.training_dir),\n",
    "            valid_dir = Path(config.valid_dir)\n",
    "        )\n",
    "\n",
    "\n"
   ]
  },
  {
   "cell_type": "code",
   "execution_count": null,
   "metadata": {},
   "outputs": [],
   "source": [
    "from sklearn.model_selection import train_test_split\n",
    "\n",
    "class DataTransformation:\n",
    "    def __init__(self, config: DataTransformationConfig):\n",
    "        self.config = config\n",
    "\n",
    "    def split_data_file(self):\n",
    "        data = pd.read_csv(self.config.input_data_file)\n",
    "        labels = data[\"label\"]\n",
    "        pictures = data.drop(\"label\", axis=1)\n",
    "\n",
    "        output_dir = self.config.output_data_file\n",
    "\n",
    "        # pictures = pictures.values.reshape(-1, 28, 28, 1)\n",
    "\n",
    "        # ##\n",
    "        # pd.DataFrame(pictures)\n",
    "        ##\n",
    "\n",
    "        labels.to_csv(output_dir / \"labels.csv\", index=False)\n",
    "        pictures.to_csv(output_dir / \"pictures.csv\", index=False)\n",
    "\n",
    "    def train_test_split(self):\n",
    "        picture_file = pd.read_csv(self.config.output_data_file / \"pictures.csv\")\n",
    "        labels_file = pd.read_csv(self.config.output_data_file / \"labels.csv\")\n",
    "\n",
    "\n",
    "        x_train, x_val, y_train, y_val = train_test_split(\n",
    "            picture_file, labels_file, test_size=0.2, random_state=42\n",
    "        )\n",
    "\n",
    "        # Create training and validation directories\n",
    "        create_directories([self.config.training_dir, self.config.valid_dir])\n",
    "\n",
    "        x_train.to_csv(self.config.training_dir / \"x_train.csv\", index=False)\n",
    "        y_train.to_csv(self.config.training_dir / \"y_train.csv\", index=False)\n",
    "        x_val.to_csv(self.config.valid_dir / \"x_val.csv\", index=False)\n",
    "        y_val.to_csv(self.config.valid_dir / \"y_val.csv\", index=False)\n",
    "\n",
    "    # def split_data_file(self):\n",
    "    #     data = pd.read_csv(self.config.input_data_file)\n",
    "    #     labels = data[\"label\"]\n",
    "    #     pictures = data.drop(\"label\", axis=1)\n",
    "\n",
    "    #     output_dir = self.config.output_data_file\n",
    "\n",
    "    #     # Reshape pictures to (28, 28, 1) and save as .npy\n",
    "    #     pictures_reshaped = pictures.values.reshape(-1, 28, 28, 1)\n",
    "    #     np.save(output_dir / \"pictures_reshaped.npy\", pictures_reshaped)\n",
    "\n",
    "    #     # Save labels as CSV\n",
    "    #     labels.to_csv(output_dir / \"labels.csv\", index=False)\n",
    "\n",
    "\n",
    "    # def train_test_split(self):\n",
    "    #     # Load reshaped pictures if saved as .npy\n",
    "    #     picture_file = np.load(self.config.output_data_file / \"pictures_reshaped.npy\")\n",
    "    #     labels_file = pd.read_csv(self.config.output_data_file / \"labels.csv\")\n",
    "\n",
    "    #     # Flatten labels to match dimensions\n",
    "    #     labels_file = labels_file.values.ravel()\n",
    "\n",
    "    #     x_train, x_val, y_train, y_val = train_test_split(\n",
    "    #         picture_file, labels_file, test_size=0.2, random_state=42\n",
    "    #     )\n",
    "\n",
    "    #     # Create training and validation directories\n",
    "    #     create_directories([self.config.training_dir, self.config.valid_dir])\n",
    "\n",
    "    #     # Save data\n",
    "    #     np.save(self.config.training_dir / \"x_train.npy\", x_train)\n",
    "    #     np.save(self.config.training_dir / \"y_train.npy\", y_train)\n",
    "    #     np.save(self.config.valid_dir / \"x_val.npy\", x_val)\n",
    "    #     np.save(self.config.valid_dir / \"y_val.npy\", y_val)\n"
   ]
  },
  {
   "cell_type": "code",
   "execution_count": 27,
   "metadata": {},
   "outputs": [
    {
     "name": "stdout",
     "output_type": "stream",
     "text": [
      "[2024-11-22 16:40:05,747: INFO: common: yaml file: config\\config.yaml loaded successfully]\n",
      "[2024-11-22 16:40:05,755: INFO: common: yaml file: params.yaml loaded successfully]\n",
      "[2024-11-22 16:40:05,755: INFO: common: created directory at: artifacts]\n",
      "[2024-11-22 16:40:05,755: INFO: common: created directory at: artifacts/data_transformation]\n"
     ]
    },
    {
     "name": "stdout",
     "output_type": "stream",
     "text": [
      "[2024-11-22 16:40:33,310: INFO: common: created directory at: artifacts\\data_transformation\\training]\n",
      "[2024-11-22 16:40:33,325: INFO: common: created directory at: artifacts\\data_transformation\\validation]\n"
     ]
    }
   ],
   "source": [
    "try:\n",
    "    config = ConfigurationManager()\n",
    "    data_transformation_config = config.get_data_transformation_config()\n",
    "    data_transformation = DataTransformation(config=data_transformation_config)\n",
    "    data_transformation.split_data_file()\n",
    "    data_transformation.train_test_split()\n",
    "\n",
    "except Exception as e:\n",
    "    print(f\"An error occurred: {e}\")\n",
    "    raise e\n"
   ]
  }
 ],
 "metadata": {
  "kernelspec": {
   "display_name": "digit",
   "language": "python",
   "name": "python3"
  },
  "language_info": {
   "codemirror_mode": {
    "name": "ipython",
    "version": 3
   },
   "file_extension": ".py",
   "mimetype": "text/x-python",
   "name": "python",
   "nbconvert_exporter": "python",
   "pygments_lexer": "ipython3",
   "version": "3.11.5"
  }
 },
 "nbformat": 4,
 "nbformat_minor": 2
}
