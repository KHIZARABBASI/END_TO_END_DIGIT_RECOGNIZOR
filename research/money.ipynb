{
 "cells": [
  {
   "cell_type": "code",
   "execution_count": 2,
   "metadata": {},
   "outputs": [],
   "source": [
    "import pandas as pd\n",
    "import numpy as np\n",
    "import matplotlib.pyplot as plt"
   ]
  },
  {
   "cell_type": "code",
   "execution_count": 3,
   "metadata": {},
   "outputs": [
    {
     "data": {
      "text/html": [
       "<div>\n",
       "<style scoped>\n",
       "    .dataframe tbody tr th:only-of-type {\n",
       "        vertical-align: middle;\n",
       "    }\n",
       "\n",
       "    .dataframe tbody tr th {\n",
       "        vertical-align: top;\n",
       "    }\n",
       "\n",
       "    .dataframe thead th {\n",
       "        text-align: right;\n",
       "    }\n",
       "</style>\n",
       "<table border=\"1\" class=\"dataframe\">\n",
       "  <thead>\n",
       "    <tr style=\"text-align: right;\">\n",
       "      <th></th>\n",
       "      <th>Date</th>\n",
       "      <th>Transaction Detail</th>\n",
       "      <th>Opening Balance</th>\n",
       "      <th>Incoming</th>\n",
       "      <th>Outgoing</th>\n",
       "      <th>Closing Balance</th>\n",
       "    </tr>\n",
       "  </thead>\n",
       "  <tbody>\n",
       "    <tr>\n",
       "      <th>0</th>\n",
       "      <td>Nov 22, 2024</td>\n",
       "      <td>Money Transfer - NADEEM AHMED - 03135010665 th...</td>\n",
       "      <td>21,009.09</td>\n",
       "      <td>-</td>\n",
       "      <td>(30.00)</td>\n",
       "      <td>20,979.09</td>\n",
       "    </tr>\n",
       "    <tr>\n",
       "      <th>1</th>\n",
       "      <td>Nov 22, 2024</td>\n",
       "      <td>Money Transfer - NADEEM AHMED - 03135010665 th...</td>\n",
       "      <td>21,039.09</td>\n",
       "      <td>-</td>\n",
       "      <td>(30.00)</td>\n",
       "      <td>21,009.09</td>\n",
       "    </tr>\n",
       "    <tr>\n",
       "      <th>2</th>\n",
       "      <td>Nov 21, 2024</td>\n",
       "      <td>Money Transfer - NADEEM AHMED - 03135010665 th...</td>\n",
       "      <td>21,069.09</td>\n",
       "      <td>-</td>\n",
       "      <td>(30.00)</td>\n",
       "      <td>21,039.09</td>\n",
       "    </tr>\n",
       "    <tr>\n",
       "      <th>3</th>\n",
       "      <td>Nov 21, 2024</td>\n",
       "      <td>Money Transfer - NADEEM AHMED - 03135010665 th...</td>\n",
       "      <td>21,099.09</td>\n",
       "      <td>-</td>\n",
       "      <td>(30.00)</td>\n",
       "      <td>21,069.09</td>\n",
       "    </tr>\n",
       "    <tr>\n",
       "      <th>4</th>\n",
       "      <td>Nov 21, 2024</td>\n",
       "      <td>Money Transfer - NADEEM AHMED - 03135010665 th...</td>\n",
       "      <td>21,129.09</td>\n",
       "      <td>-</td>\n",
       "      <td>(30.00)</td>\n",
       "      <td>21,099.09</td>\n",
       "    </tr>\n",
       "  </tbody>\n",
       "</table>\n",
       "</div>"
      ],
      "text/plain": [
       "           Date                                 Transaction Detail  \\\n",
       "0  Nov 22, 2024  Money Transfer - NADEEM AHMED - 03135010665 th...   \n",
       "1  Nov 22, 2024  Money Transfer - NADEEM AHMED - 03135010665 th...   \n",
       "2  Nov 21, 2024  Money Transfer - NADEEM AHMED - 03135010665 th...   \n",
       "3  Nov 21, 2024  Money Transfer - NADEEM AHMED - 03135010665 th...   \n",
       "4  Nov 21, 2024  Money Transfer - NADEEM AHMED - 03135010665 th...   \n",
       "\n",
       "  Opening Balance Incoming Outgoing Closing Balance  \n",
       "0       21,009.09        -  (30.00)       20,979.09  \n",
       "1       21,039.09        -  (30.00)       21,009.09  \n",
       "2       21,069.09        -  (30.00)       21,039.09  \n",
       "3       21,099.09        -  (30.00)       21,069.09  \n",
       "4       21,129.09        -  (30.00)       21,099.09  "
      ]
     },
     "execution_count": 3,
     "metadata": {},
     "output_type": "execute_result"
    }
   ],
   "source": [
    "df= pd.read_csv(\"e-statement.csv\")\n",
    "df.head()"
   ]
  },
  {
   "cell_type": "code",
   "execution_count": 8,
   "metadata": {},
   "outputs": [],
   "source": [
    "df.drop([\"Transaction Detail\", \"Opening Balance\" ,\"Incoming\"],axis= 1, inplace=True)"
   ]
  },
  {
   "cell_type": "code",
   "execution_count": 9,
   "metadata": {},
   "outputs": [
    {
     "data": {
      "text/plain": [
       "dtype('O')"
      ]
     },
     "execution_count": 9,
     "metadata": {},
     "output_type": "execute_result"
    }
   ],
   "source": [
    "df[\"Date\"].dtype"
   ]
  },
  {
   "cell_type": "code",
   "execution_count": 13,
   "metadata": {},
   "outputs": [],
   "source": [
    "df[\"Date\"] = pd.to_datetime(df[\"Date\"])"
   ]
  },
  {
   "cell_type": "code",
   "execution_count": 15,
   "metadata": {},
   "outputs": [
    {
     "data": {
      "text/html": [
       "<div>\n",
       "<style scoped>\n",
       "    .dataframe tbody tr th:only-of-type {\n",
       "        vertical-align: middle;\n",
       "    }\n",
       "\n",
       "    .dataframe tbody tr th {\n",
       "        vertical-align: top;\n",
       "    }\n",
       "\n",
       "    .dataframe thead th {\n",
       "        text-align: right;\n",
       "    }\n",
       "</style>\n",
       "<table border=\"1\" class=\"dataframe\">\n",
       "  <thead>\n",
       "    <tr style=\"text-align: right;\">\n",
       "      <th></th>\n",
       "      <th>Date</th>\n",
       "      <th>Outgoing</th>\n",
       "      <th>Closing Balance</th>\n",
       "    </tr>\n",
       "  </thead>\n",
       "  <tbody>\n",
       "    <tr>\n",
       "      <th>123</th>\n",
       "      <td>2024-09-11</td>\n",
       "      <td>-</td>\n",
       "      <td>7,410.39</td>\n",
       "    </tr>\n",
       "    <tr>\n",
       "      <th>124</th>\n",
       "      <td>2024-09-11</td>\n",
       "      <td>(1,400.00)</td>\n",
       "      <td>7,110.39</td>\n",
       "    </tr>\n",
       "    <tr>\n",
       "      <th>125</th>\n",
       "      <td>2024-09-10</td>\n",
       "      <td>-</td>\n",
       "      <td>8,510.39</td>\n",
       "    </tr>\n",
       "    <tr>\n",
       "      <th>126</th>\n",
       "      <td>2024-09-08</td>\n",
       "      <td>(450.00)</td>\n",
       "      <td>8,010.39</td>\n",
       "    </tr>\n",
       "    <tr>\n",
       "      <th>127</th>\n",
       "      <td>2024-09-08</td>\n",
       "      <td>-</td>\n",
       "      <td>8,460.39</td>\n",
       "    </tr>\n",
       "    <tr>\n",
       "      <th>128</th>\n",
       "      <td>2024-09-05</td>\n",
       "      <td>(100.00)</td>\n",
       "      <td>8,010.39</td>\n",
       "    </tr>\n",
       "    <tr>\n",
       "      <th>129</th>\n",
       "      <td>2024-09-05</td>\n",
       "      <td>-</td>\n",
       "      <td>8,110.39</td>\n",
       "    </tr>\n",
       "    <tr>\n",
       "      <th>130</th>\n",
       "      <td>2024-09-05</td>\n",
       "      <td>(500.00)</td>\n",
       "      <td>6,110.39</td>\n",
       "    </tr>\n",
       "    <tr>\n",
       "      <th>131</th>\n",
       "      <td>2024-08-31</td>\n",
       "      <td>(750.86)</td>\n",
       "      <td>6,610.39</td>\n",
       "    </tr>\n",
       "    <tr>\n",
       "      <th>132</th>\n",
       "      <td>2024-08-30</td>\n",
       "      <td>(500.00)</td>\n",
       "      <td>7,361.39</td>\n",
       "    </tr>\n",
       "    <tr>\n",
       "      <th>133</th>\n",
       "      <td>2024-08-29</td>\n",
       "      <td>-</td>\n",
       "      <td>7,861.39</td>\n",
       "    </tr>\n",
       "    <tr>\n",
       "      <th>134</th>\n",
       "      <td>2024-08-26</td>\n",
       "      <td>(436.70)</td>\n",
       "      <td>7,361.39</td>\n",
       "    </tr>\n",
       "    <tr>\n",
       "      <th>135</th>\n",
       "      <td>2024-08-26</td>\n",
       "      <td>(484.70)</td>\n",
       "      <td>7,798.09</td>\n",
       "    </tr>\n",
       "    <tr>\n",
       "      <th>136</th>\n",
       "      <td>2024-08-26</td>\n",
       "      <td>-</td>\n",
       "      <td>8,282.79</td>\n",
       "    </tr>\n",
       "    <tr>\n",
       "      <th>137</th>\n",
       "      <td>2024-08-24</td>\n",
       "      <td>(3,000.00)</td>\n",
       "      <td>5,300.19</td>\n",
       "    </tr>\n",
       "  </tbody>\n",
       "</table>\n",
       "</div>"
      ],
      "text/plain": [
       "          Date    Outgoing Closing Balance\n",
       "123 2024-09-11           -        7,410.39\n",
       "124 2024-09-11  (1,400.00)        7,110.39\n",
       "125 2024-09-10           -        8,510.39\n",
       "126 2024-09-08    (450.00)        8,010.39\n",
       "127 2024-09-08           -        8,460.39\n",
       "128 2024-09-05    (100.00)        8,010.39\n",
       "129 2024-09-05           -        8,110.39\n",
       "130 2024-09-05    (500.00)        6,110.39\n",
       "131 2024-08-31    (750.86)        6,610.39\n",
       "132 2024-08-30    (500.00)        7,361.39\n",
       "133 2024-08-29           -        7,861.39\n",
       "134 2024-08-26    (436.70)        7,361.39\n",
       "135 2024-08-26    (484.70)        7,798.09\n",
       "136 2024-08-26           -        8,282.79\n",
       "137 2024-08-24  (3,000.00)        5,300.19"
      ]
     },
     "execution_count": 15,
     "metadata": {},
     "output_type": "execute_result"
    }
   ],
   "source": [
    "df.tail(15)"
   ]
  },
  {
   "cell_type": "code",
   "execution_count": null,
   "metadata": {},
   "outputs": [],
   "source": [
    "df['Outgoing'] = df['Outgoing'].str.replace(r'[()]', '', regex=True)#.astype(float)\n",
    "df['Outgoing'] = df['Outgoing'].str.replace(r'[-]', '0', regex=True)#.astype(float)"
   ]
  },
  {
   "cell_type": "code",
   "execution_count": 26,
   "metadata": {},
   "outputs": [
    {
     "data": {
      "text/plain": [
       "118           0\n",
       "119      200.00\n",
       "120           0\n",
       "121           0\n",
       "122      400.00\n",
       "123           0\n",
       "124    1,400.00\n",
       "125           0\n",
       "126      450.00\n",
       "127           0\n",
       "128      100.00\n",
       "129           0\n",
       "130      500.00\n",
       "131      750.86\n",
       "132      500.00\n",
       "133           0\n",
       "134      436.70\n",
       "135      484.70\n",
       "136           0\n",
       "137    3,000.00\n",
       "Name: Outgoing, dtype: object"
      ]
     },
     "execution_count": 26,
     "metadata": {},
     "output_type": "execute_result"
    }
   ],
   "source": [
    "df[\"Outgoing\"].tail(20)"
   ]
  },
  {
   "cell_type": "code",
   "execution_count": null,
   "metadata": {},
   "outputs": [],
   "source": []
  }
 ],
 "metadata": {
  "kernelspec": {
   "display_name": "digit",
   "language": "python",
   "name": "python3"
  },
  "language_info": {
   "codemirror_mode": {
    "name": "ipython",
    "version": 3
   },
   "file_extension": ".py",
   "mimetype": "text/x-python",
   "name": "python",
   "nbconvert_exporter": "python",
   "pygments_lexer": "ipython3",
   "version": "3.11.5"
  }
 },
 "nbformat": 4,
 "nbformat_minor": 2
}
